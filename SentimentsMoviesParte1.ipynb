{
 "cells": [
  {
   "cell_type": "markdown",
   "metadata": {},
   "source": [
    "# Parte 1\n",
    "\n",
    "O primeiro passo para um analizador de sentimentos é a leitura e a formatação dos dados. Os dados devem ser formatados de modo a facilitar a utilização dos mesmos durante a redação do códico. \n",
    "\n",
    "A filtragem é um passo crucial para uma boa qualidade do *script*. Durante esse processo devem ser removidos\n",
    "pontuações, números, espaços em branco e palavras vazias (*stopwords*). Palavras vazias são palavras que não\n",
    "transmitem sentimento como, por exemplo: a, um, para, eu, ela, etc. Além disso, é aconselhável que se retenha apenas os radicais das palavras, pois reduz o número de *tokens* (ou *features*) e, consequentente torna o códico mais eficiente.\n",
    "\n",
    "Em seguida deve-se adotar um procedimento conhecido como tokenização (*tokenization*), onde cada palavra\n",
    "é considerada um *token* (ou *feature*). Neste processo cada coluna de nossa matriz seria um token e a linhas da matriz correspondem às linhas do documento, onde em cada linha seria a frequência que a palavra aparece.\n",
    "\n",
    "Após a tokenização podemos dar início à análise de palavras. Nesta etapa, verificamos quais são as palavras mais frequentes e quais seriam as palavras que são utilizados juntamente com as mesmas. Por exemplo, se considerarmos a palavra **ator** como mais frequente, ela poderia estar associada a palavras como: **péssimo**, no caso de sentimentos negativos, e **excelente**, no caso de sentimentos positivos. Nesta fase podemos entender quais são as palavras mais utilizadas e com quais palavras estão associadas. \n",
    "\n",
    "Como uma abordagem final do assunto, podemos treinar um modelo estatístico de forma a termos uma ferramenta capaz de prever os sentimentos. Existem vários modelos na literatura, aqui usarei apenas dois modelos: Naive Bayes e o Boolean feature Multinomial Naive Bayes. Como não tenho experiência com análise de sentimentos optei por esses modelos, pois são rápidos para treinar e, de acordo com a literatura, frequentemente apresentam bons resultados. O método Naive Bayes considera que os preditores são independentes, ou seja, possuem correlação nula. Pode ser aplicado em objetos existentes já classificados no intuito de classificar novos objetos dos quais não conhecemos sua classificação. O método boolean feature Multinomial Naive Bayes é uma variação do método Naive Bayes e assume que a ocorrência dos atributos é mais importante do que sua frequência.\n",
    "\n",
    "Contudo, antes de treinarmos os modelos muitas vezes é aconselhável remover os ruídos do dado. No processo de análise de palavras podemos considerar como ruído palavras que tem número de occorrência muito baixo. Este processo permite, normalmente, uma melhor performace dos modelos estatísticos. Além disso, para avaliar o desempenho do modelo é necessário separar o dado em **treino** e **teste**, assim pode-se utilizar o **treino** para treinar\n",
    "o modelo estatístico e o **teste** para avaliar seu desempenho. \n",
    "\n",
    "Finalmente, após treinarmos os modelos podemos avaliar seu desempenho através do cálculo da sua acurácia."
   ]
  }
 ],
 "metadata": {
  "anaconda-cloud": {},
  "kernelspec": {
   "display_name": "R",
   "language": "R",
   "name": "ir"
  },
  "language_info": {
   "codemirror_mode": "r",
   "file_extension": ".r",
   "mimetype": "text/x-r-source",
   "name": "R",
   "pygments_lexer": "r",
   "version": "3.2.5"
  }
 },
 "nbformat": 4,
 "nbformat_minor": 1
}
